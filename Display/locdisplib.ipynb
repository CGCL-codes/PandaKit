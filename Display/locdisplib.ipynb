{
  "nbformat": 4,
  "nbformat_minor": 0,
  "metadata": {
    "colab": {
      "name": "locdisplib.ipynb",
      "provenance": [],
      "collapsed_sections": [],
      "authorship_tag": "ABX9TyM+CZpz5pceNI/vzjNutaFK",
      "include_colab_link": true
    },
    "kernelspec": {
      "name": "python3",
      "display_name": "Python 3"
    }
  },
  "cells": [
    {
      "cell_type": "markdown",
      "metadata": {
        "id": "view-in-github",
        "colab_type": "text"
      },
      "source": [
        "<a href=\"https://colab.research.google.com/github/CoreTheGreat/PandaKit-Credo/blob/master/Display/locdisplib.ipynb\" target=\"_parent\"><img src=\"https://colab.research.google.com/assets/colab-badge.svg\" alt=\"Open In Colab\"/></a>"
      ]
    },
    {
      "cell_type": "markdown",
      "metadata": {
        "id": "JsB8AWZO6-_G"
      },
      "source": [
        "Display localization result"
      ]
    },
    {
      "cell_type": "code",
      "metadata": {
        "id": "ZxOcePvZ5oG_"
      },
      "source": [
        "# from matplotlib import pyplot as plt\n",
        "\n",
        "def pltDraw_line(ax,sp,ep,param_dict):\n",
        "    \"\"\"\n",
        "    A helper function to draw a streight line\n",
        "\n",
        "    Parameters\n",
        "    ----------\n",
        "    ax : Axes\n",
        "        The axes to draw to\n",
        "\n",
        "    sp : array\n",
        "       The start point (sx,sy)\n",
        "\n",
        "    ep : array\n",
        "       The end point (ex, ey)\n",
        "\n",
        "    param_dict : dict\n",
        "       Dictionary of kwargs to pass to ax.plot\n",
        "\n",
        "    Returns\n",
        "    -------\n",
        "    out : list\n",
        "        A line added\n",
        "    \"\"\"\n",
        "\n",
        "    x = sp[0],ep[0]\n",
        "    y = sp[1],ep[1]\n",
        "\n",
        "    out = ax.plot(x,y,**param_dict)\n",
        "    return out"
      ],
      "execution_count": 34,
      "outputs": []
    }
  ]
}